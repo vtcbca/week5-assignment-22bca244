{
 "cells": [
  {
   "cell_type": "code",
   "execution_count": 1,
   "id": "60f64888",
   "metadata": {},
   "outputs": [],
   "source": [
    "import csv"
   ]
  },
  {
   "cell_type": "markdown",
   "id": "5d639d0b",
   "metadata": {},
   "source": [
    "# 5 records input directly"
   ]
  },
  {
   "cell_type": "code",
   "execution_count": 3,
   "id": "539d9ecb",
   "metadata": {},
   "outputs": [],
   "source": [
    "list=[[1,'radha','navsari',9913787054],[2,'krishna','surat',9998767053],[3,'shiv','valsad',9813097050],[4,'parvati','bilimora',9933687055],[5,'shyam','ahemdabad',9513737057]]"
   ]
  },
  {
   "cell_type": "markdown",
   "id": "eacd1639",
   "metadata": {},
   "source": [
    "# 5 records input from user"
   ]
  },
  {
   "cell_type": "code",
   "execution_count": 6,
   "id": "2489b44a",
   "metadata": {},
   "outputs": [
    {
     "name": "stdout",
     "output_type": "stream",
     "text": [
      "enter student id:6\n",
      "enter student name:kinjal\n",
      "enter student city:surat\n",
      "enter student contact:9913760466\n",
      "enter student id:7\n",
      "enter student name:tisha\n",
      "enter student city:surat\n",
      "enter student contact:5566778899\n",
      "enter student id:8\n",
      "enter student name:shreya\n",
      "enter student city:valsad\n",
      "enter student contact:9876543210\n",
      "enter student id:9\n",
      "enter student name:siddhi\n",
      "enter student city:bardoli\n",
      "enter student contact:7689542136\n",
      "enter student id:10\n",
      "enter student name:diya\n",
      "enter student city:vapi\n",
      "enter student contact:8798091234\n"
     ]
    }
   ],
   "source": [
    "for i in range(5):\n",
    "    id=int(input('enter student id:'))\n",
    "    name=input('enter student name:')\n",
    "    city=input('enter student city:')\n",
    "    contact=int(input('enter student contact:'))\n",
    "    list.append((id,name,city,contact))"
   ]
  },
  {
   "cell_type": "markdown",
   "id": "60d35a86",
   "metadata": {},
   "source": [
    "# Writing csv file"
   ]
  },
  {
   "cell_type": "code",
   "execution_count": 22,
   "id": "98eeee48",
   "metadata": {},
   "outputs": [],
   "source": [
    "import csv\n",
    "with open('student.csv','w',newline='') as csvfile:\n",
    "    write=csv.writer(csvfile)\n",
    "    fields=['ID','NAME','CITY','CONTACT']\n",
    "    write.writerow(fields)\n",
    "    write.writerows(list)"
   ]
  },
  {
   "cell_type": "markdown",
   "id": "588b004a",
   "metadata": {},
   "source": [
    "# Reading csv file"
   ]
  },
  {
   "cell_type": "code",
   "execution_count": 25,
   "id": "bd1a3886",
   "metadata": {},
   "outputs": [
    {
     "name": "stdout",
     "output_type": "stream",
     "text": [
      "['ID', 'NAME', 'CITY', 'CONTACT']\n",
      "['1', 'radha', 'navsari', '9913787054']\n",
      "['2', 'krishna', 'surat', '9998767053']\n",
      "['3', 'shiv', 'valsad', '9813097050']\n",
      "['4', 'parvati', 'bilimora', '9933687055']\n",
      "['5', 'shyam', 'ahemdabad', '9513737057']\n",
      "['6', 'kinjal', 'surat', '9913760466']\n",
      "['7', 'tisha', 'surat', '5566778899']\n",
      "['8', 'shreya', 'valsad', '9876543210']\n",
      "['9', 'siddhi', 'bardoli', '7689542136']\n",
      "['10', 'diya', 'vapi', '8798091234']\n"
     ]
    }
   ],
   "source": [
    "with open('student.csv','r',) as csvfile:\n",
    "    read=csv.reader(csvfile)\n",
    "    for data in read:\n",
    "        print(data)"
   ]
  }
 ],
 "metadata": {
  "kernelspec": {
   "display_name": "Python 3 (ipykernel)",
   "language": "python",
   "name": "python3"
  },
  "language_info": {
   "codemirror_mode": {
    "name": "ipython",
    "version": 3
   },
   "file_extension": ".py",
   "mimetype": "text/x-python",
   "name": "python",
   "nbconvert_exporter": "python",
   "pygments_lexer": "ipython3",
   "version": "3.11.3"
  }
 },
 "nbformat": 4,
 "nbformat_minor": 5
}
